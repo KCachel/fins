{
 "cells": [
  {
   "cell_type": "markdown",
   "id": "1febe240",
   "metadata": {},
   "source": [
    "# fins auditing library"
   ]
  },
  {
   "cell_type": "markdown",
   "id": "569676ec",
   "metadata": {},
   "source": [
    "Import the fins package"
   ]
  },
  {
   "cell_type": "code",
   "execution_count": 1,
   "id": "73321ae1",
   "metadata": {},
   "outputs": [],
   "source": [
    "import fins as fins"
   ]
  },
  {
   "cell_type": "code",
   "execution_count": 2,
   "id": "b5b3eb8b",
   "metadata": {},
   "outputs": [],
   "source": [
    "import pandas as pd\n",
    "import numpy as np"
   ]
  },
  {
   "cell_type": "markdown",
   "id": "46407742",
   "metadata": {},
   "source": [
    "Load in relevant data. NewZealand AirBnB data and North Carolina voter registration data. "
   ]
  },
  {
   "cell_type": "code",
   "execution_count": 3,
   "id": "3ac36190",
   "metadata": {},
   "outputs": [],
   "source": [
    "nz_data = pd.read_csv('newzealand.csv')"
   ]
  },
  {
   "cell_type": "code",
   "execution_count": 4,
   "id": "878fcba9",
   "metadata": {},
   "outputs": [],
   "source": [
    "burke_county = pd.read_csv('geocoded_burke_county.csv')"
   ]
  },
  {
   "cell_type": "markdown",
   "id": "0856a892",
   "metadata": {},
   "source": [
    "## New Zealand AirBnB data\n",
    "Prepare pool and subsets. New Zealand data is sorted in decreasing order by reviews_per_month. For the subset we take the 50 listings with the highest reviews_per_month.\n",
    "\n",
    "Numeric encoding of hosts groups:\n",
    "    SINGLE : 0\n",
    "    SMALL : 1\n",
    "    PROFESSIONAL : 2"
   ]
  },
  {
   "cell_type": "code",
   "execution_count": 5,
   "id": "bb27cd15",
   "metadata": {},
   "outputs": [],
   "source": [
    "nz_pool_items = np.arange(0, len(nz_data))\n",
    "nz_pool_scores = np.array(nz_data.reviews_per_month)\n",
    "nz_pool_groups = np.array(nz_data.host)\n",
    "nz_num_items = len(nz_pool_items)\n",
    "k_val = 50\n",
    "\n",
    "nz_subset_items = nz_pool_items[:k_val]\n",
    "nz_subset_scores = nz_pool_scores[:k_val]\n",
    "nz_subset_groups = nz_pool_groups[:k_val]"
   ]
  },
  {
   "cell_type": "markdown",
   "id": "fa79d8cb",
   "metadata": {},
   "source": [
    "### Relevance Parity"
   ]
  },
  {
   "cell_type": "code",
   "execution_count": 6,
   "id": "b145cabe",
   "metadata": {},
   "outputs": [],
   "source": [
    "grp_relrate, rp_score = fins.relevance_parity(nz_pool_items, nz_pool_scores, nz_pool_groups, nz_subset_items, nz_subset_scores, nz_subset_groups)\n"
   ]
  },
  {
   "cell_type": "markdown",
   "id": "ea448cd5",
   "metadata": {},
   "source": [
    "Relevance rate for host groups."
   ]
  },
  {
   "cell_type": "code",
   "execution_count": 7,
   "id": "6400f2e3",
   "metadata": {},
   "outputs": [
    {
     "name": "stdout",
     "output_type": "stream",
     "text": [
      "SINGLE:  13.858374754310928 SMALL:  7.830223045038759 PROFESSIONAL:  6.376492763156077\n"
     ]
    }
   ],
   "source": [
    "print(\"SINGLE: \",  grp_relrate[0], \"SMALL: \",  grp_relrate[1], \"PROFESSIONAL: \",  grp_relrate[2]) #group measures"
   ]
  },
  {
   "cell_type": "markdown",
   "id": "3ed88eb5",
   "metadata": {},
   "source": [
    "Relevance parity score."
   ]
  },
  {
   "cell_type": "code",
   "execution_count": 8,
   "id": "0aafa380",
   "metadata": {},
   "outputs": [
    {
     "name": "stdout",
     "output_type": "stream",
     "text": [
      "Relevance parity:  0.4601183671391582\n"
     ]
    }
   ],
   "source": [
    "print(\"Relevance parity: \",  rp_score)"
   ]
  },
  {
   "cell_type": "markdown",
   "id": "99439dc5",
   "metadata": {},
   "source": [
    "### Qualified Parity "
   ]
  },
  {
   "cell_type": "code",
   "execution_count": 9,
   "id": "e5a18f79",
   "metadata": {},
   "outputs": [],
   "source": [
    "q_val = 1.77 #qualified reviews_per_mot=nth\n",
    "grp_qsrate, qp_score = fins.qualififed_parity(nz_pool_items, nz_pool_scores, nz_pool_groups, nz_subset_items, nz_subset_scores, nz_subset_groups, q_val)\n"
   ]
  },
  {
   "cell_type": "markdown",
   "id": "9281289b",
   "metadata": {},
   "source": [
    "Qualified selection rate for host groups."
   ]
  },
  {
   "cell_type": "code",
   "execution_count": 10,
   "id": "dac8ff56",
   "metadata": {},
   "outputs": [
    {
     "name": "stdout",
     "output_type": "stream",
     "text": [
      "SINGLE:  0.004140786749482402 SMALL:  0.0053639846743295016 PROFESSIONAL:  0.0042417815482502655\n"
     ]
    }
   ],
   "source": [
    "print(\"SINGLE: \",  grp_qsrate[0], \"SMALL: \",  grp_qsrate[1], \"PROFESSIONAL: \",  grp_qsrate[2]) #group measures"
   ]
  },
  {
   "cell_type": "markdown",
   "id": "e7510c7c",
   "metadata": {},
   "source": [
    "Qualified parity score."
   ]
  },
  {
   "cell_type": "code",
   "execution_count": 11,
   "id": "60e3523c",
   "metadata": {},
   "outputs": [
    {
     "name": "stdout",
     "output_type": "stream",
     "text": [
      "Qualified parity:  0.7719609582963621\n"
     ]
    }
   ],
   "source": [
    "print(\"Qualified parity: \",  qp_score)"
   ]
  },
  {
   "cell_type": "markdown",
   "id": "749bd666",
   "metadata": {},
   "source": [
    "### Qualified Balance"
   ]
  },
  {
   "cell_type": "code",
   "execution_count": 12,
   "id": "8f9479f9",
   "metadata": {},
   "outputs": [],
   "source": [
    "grp_qprop, rb_score = fins.qualified_balance(nz_pool_items, nz_pool_scores, nz_pool_groups, nz_subset_items, nz_subset_scores, nz_subset_groups, q_val)\n"
   ]
  },
  {
   "cell_type": "markdown",
   "id": "f5a5c196",
   "metadata": {},
   "source": [
    "Qualified proportion of subset for host groups."
   ]
  },
  {
   "cell_type": "code",
   "execution_count": 13,
   "id": "9fe59392",
   "metadata": {},
   "outputs": [
    {
     "name": "stdout",
     "output_type": "stream",
     "text": [
      "SINGLE:  0.56 SMALL:  0.28 PROFESSIONAL:  0.16\n"
     ]
    }
   ],
   "source": [
    "print(\"SINGLE: \",  grp_qprop[0], \"SMALL: \",  grp_qprop[1], \"PROFESSIONAL: \",  grp_qprop[2]) #group measures"
   ]
  },
  {
   "cell_type": "markdown",
   "id": "6381fa3c",
   "metadata": {},
   "source": [
    "Qualified balance score."
   ]
  },
  {
   "cell_type": "code",
   "execution_count": 14,
   "id": "d8579f15",
   "metadata": {},
   "outputs": [
    {
     "name": "stdout",
     "output_type": "stream",
     "text": [
      "Qualified balance:  0.2857142857142857\n"
     ]
    }
   ],
   "source": [
    "print(\"Qualified balance: \",  rb_score)"
   ]
  },
  {
   "cell_type": "markdown",
   "id": "7a99634e",
   "metadata": {},
   "source": [
    "### Calibrated Parity"
   ]
  },
  {
   "cell_type": "code",
   "execution_count": 15,
   "id": "893f24c6",
   "metadata": {},
   "outputs": [],
   "source": [
    "lb_bin = np.asarray([0, 1, 5,20, 100])\n",
    "ub_bin = np.asarray([1, 5, 20, 100, 200])\n",
    "\n",
    "bin_group_selectr, cp_val = fins.calibrated_parity(nz_pool_items, nz_pool_scores, nz_pool_groups, nz_subset_items, nz_subset_scores, nz_subset_groups, lb_bin, ub_bin)"
   ]
  },
  {
   "cell_type": "code",
   "execution_count": 16,
   "id": "896aa880",
   "metadata": {},
   "outputs": [
    {
     "data": {
      "text/plain": [
       "array([191.14, 154.  , 102.32,  97.92,  85.5 ,  78.63,  72.58,  71.05,\n",
       "        53.28,  47.7 ,  47.  ,  42.66,  42.41,  42.12,  42.  ,  40.21,\n",
       "        39.25,  39.  ,  36.94,  35.75,  35.69,  35.53,  35.4 ,  35.04,\n",
       "        34.5 ,  34.18,  33.48,  33.28,  32.21,  32.  ,  31.18,  30.77,\n",
       "        29.  ,  28.5 ,  27.19,  26.25,  25.91,  25.54,  25.48,  24.55,\n",
       "        24.48,  24.16,  23.65,  23.08,  23.  ,  22.56,  21.49,  21.29,\n",
       "        19.67,  19.54])"
      ]
     },
     "execution_count": 16,
     "metadata": {},
     "output_type": "execute_result"
    }
   ],
   "source": [
    "nz_subset_scores"
   ]
  },
  {
   "cell_type": "markdown",
   "id": "d73e14c7",
   "metadata": {},
   "source": [
    "Bin selection rates for host groups."
   ]
  },
  {
   "cell_type": "code",
   "execution_count": 17,
   "id": "fe1b10dc",
   "metadata": {},
   "outputs": [
    {
     "name": "stdout",
     "output_type": "stream",
     "text": [
      "BIN 0 --  SINGLE:  0.0 SMALL:  0.0 PROFESSIONAL:  0.0\n",
      "BIN 1 --  SINGLE:  0.0 SMALL:  0.0 PROFESSIONAL:  0.0\n",
      "BIN 2 --  SINGLE:  0.0006561679790026247 SMALL:  0.0 PROFESSIONAL:  0.002976190476190476\n",
      "BIN 3 --  SINGLE:  1.0 SMALL:  1.0 PROFESSIONAL:  1.0\n"
     ]
    }
   ],
   "source": [
    "print(\"BIN 0 -- \", \"SINGLE: \",  bin_group_selectr[0,0], \"SMALL: \",  bin_group_selectr[0,1], \"PROFESSIONAL: \",  bin_group_selectr[0,2]) #group measures bin 0\n",
    "print(\"BIN 1 -- \", \"SINGLE: \",  bin_group_selectr[1,0], \"SMALL: \",  bin_group_selectr[1,1], \"PROFESSIONAL: \",  bin_group_selectr[1,2]) #group measures bin 1\n",
    "print(\"BIN 2 -- \", \"SINGLE: \",  bin_group_selectr[2,0], \"SMALL: \",  bin_group_selectr[2,1], \"PROFESSIONAL: \",  bin_group_selectr[2,2]) #group measures bin 2\n",
    "print(\"BIN 3 -- \", \"SINGLE: \",  bin_group_selectr[3,0], \"SMALL: \",  bin_group_selectr[3,1], \"PROFESSIONAL: \",  bin_group_selectr[3,2]) #group measures bin 3\n"
   ]
  },
  {
   "cell_type": "markdown",
   "id": "d65f0ba3",
   "metadata": {},
   "source": [
    "Calibrated Parity score."
   ]
  },
  {
   "cell_type": "code",
   "execution_count": 18,
   "id": "e8c4b5b2",
   "metadata": {},
   "outputs": [
    {
     "name": "stdout",
     "output_type": "stream",
     "text": [
      "Calibrated parity:  0.0\n"
     ]
    }
   ],
   "source": [
    "print(\"Calibrated parity: \",  cp_val)"
   ]
  },
  {
   "cell_type": "markdown",
   "id": "eba98d1f",
   "metadata": {},
   "source": [
    "### Calibrated Balance"
   ]
  },
  {
   "cell_type": "code",
   "execution_count": 19,
   "id": "0d655dbb",
   "metadata": {},
   "outputs": [],
   "source": [
    "lb_bin = np.asarray([0, 1, 5,20, 100])\n",
    "ub_bin = np.asarray([1, 5, 20, 100, 200])\n",
    "\n",
    "bin_group_proportions, cb_val = fins.calibrated_balance(nz_pool_items, nz_pool_scores, nz_pool_groups, nz_subset_items, nz_subset_scores, nz_subset_groups, lb_bin, ub_bin)"
   ]
  },
  {
   "cell_type": "markdown",
   "id": "af6e34a9-76e2-4de0-8365-cf9bf1bb6e7d",
   "metadata": {},
   "source": [
    "Bin proportion of subset for host groups."
   ]
  },
  {
   "cell_type": "code",
   "execution_count": 22,
   "id": "5401701c",
   "metadata": {},
   "outputs": [
    {
     "name": "stdout",
     "output_type": "stream",
     "text": [
      "BIN 0 --  SINGLE:  0.0 SMALL:  0.0 PROFESSIONAL:  0.0\n",
      "BIN 1 --  SINGLE:  0.0 SMALL:  0.0 PROFESSIONAL:  0.0\n",
      "BIN 2 --  SINGLE:  0.02040816326530612 SMALL:  0.0 PROFESSIONAL:  0.02040816326530612\n",
      "BIN 3 --  SINGLE:  0.5306122448979592 SMALL:  0.2653061224489796 PROFESSIONAL:  0.12244897959183673\n"
     ]
    }
   ],
   "source": [
    "print(\"BIN 0 -- \", \"SINGLE: \",  bin_group_proportions[0,0], \"SMALL: \",  bin_group_proportions[0,1], \"PROFESSIONAL: \",  bin_group_proportions[0,2]) #group measures bin 0\n",
    "print(\"BIN 1 -- \", \"SINGLE: \",  bin_group_proportions[1,0], \"SMALL: \",  bin_group_proportions[1,1], \"PROFESSIONAL: \",  bin_group_proportions[1,2]) #group measures bin 1\n",
    "print(\"BIN 2 -- \", \"SINGLE: \",  bin_group_proportions[2,0], \"SMALL: \",  bin_group_proportions[2,1], \"PROFESSIONAL: \",  bin_group_proportions[2,2]) #group measures bin 2\n",
    "print(\"BIN 3 -- \", \"SINGLE: \",  bin_group_proportions[3,0], \"SMALL: \",  bin_group_proportions[3,1], \"PROFESSIONAL: \",  bin_group_proportions[3,2]) #group measures bin 3\n"
   ]
  },
  {
   "cell_type": "markdown",
   "id": "735b2ec5",
   "metadata": {},
   "source": [
    "Calibrated balance score"
   ]
  },
  {
   "cell_type": "code",
   "execution_count": 23,
   "id": "98a7ac1c",
   "metadata": {},
   "outputs": [
    {
     "name": "stdout",
     "output_type": "stream",
     "text": [
      "Calibrated balance:  0.0\n"
     ]
    }
   ],
   "source": [
    "print(\"Calibrated balance: \",  cb_val)"
   ]
  },
  {
   "cell_type": "markdown",
   "id": "af05c7ef-ad2c-40e7-80a0-099f5b77f4e3",
   "metadata": {},
   "source": [
    "## NC Burke County voter data\n",
    "Prepare pool and subsets.\n",
    "Numeric encoding of Groups .\n",
    "\n",
    "Party groups: DEMOCRAT : 0 REPUBLICAN 2 (but recoded to 1 below)\n",
    "\n",
    "Race groups: ASIAN : 0\n",
    "BLACK : 1\n",
    "AMINDIAN : 2\n",
    "MULTI : 3\n",
    "OTHER : 4\n",
    "UNDESIGNATED : 5\n",
    "WHITE : 6"
   ]
  },
  {
   "cell_type": "code",
   "execution_count": 24,
   "id": "f931f7d2-5e7f-429f-af84-46ef55843053",
   "metadata": {},
   "outputs": [],
   "source": [
    "###This is the data (only dem and rep values) used to determine parity and balance\n",
    "burke_county = pd.read_csv('geocoded_burke_county.csv', header=0, na_values='?')\n",
    "\n",
    "np_voter_lat = np.array(burke_county[\"voter_lat\"])\n",
    "np_voter_long = np.array(burke_county[\"voter_long\"])\n",
    "voter_geometry = np.vstack((np_voter_lat, np_voter_long)).transpose()\n",
    "\n",
    "np_precint_lat = np.array(burke_county[\"precinct_lat\"])\n",
    "np_precint_long = np.array(burke_county[\"precinct_long\"])\n",
    "precinct_geometry = np.vstack((np_precint_lat, np_precint_long)).transpose()\n",
    "distance = np.full_like(np_precint_lat, np.Inf)\n",
    "for i in range(0, len(precinct_geometry)):\n",
    "    distance[i] = np.linalg.norm(precinct_geometry[i] - voter_geometry[i])\n",
    "\n",
    "\n",
    "burke_county['d_to_precinct'] = distance\n",
    "\n",
    "precincts = np.unique(burke_county['precinct_id']).tolist()\n",
    "\n",
    "unique_race_groups = np.unique(burke_county['race_id'].to_numpy())\n",
    "dems_reps = [0,2]  #will need to recode to consecutive integers \n",
    "burke_county_dems_rs = burke_county.query(\"party_cd == @dems_reps\")\n",
    "pool_items = np.arange(0,burke_county_dems_rs.shape[0])\n",
    "pool_party_groups = burke_county_dems_rs['party_cd'].to_numpy()\n",
    "pool_race_groups = burke_county_dems_rs['race_id'].to_numpy()\n",
    "prec_i = 2 #use second precint\n",
    "\n",
    "precinct_data = burke_county.query(\"precinct_id == @prec_i\")\n",
    "precinct_data = precinct_data.query(\"party_cd == @dems_reps\")\n",
    "subset_scores = precinct_data['d_to_precinct'].to_numpy()\n",
    "subset_items = np.arange(0, precinct_data.shape[0])\n",
    "subset_groups = precinct_data['party_cd'].to_numpy()\n",
    "subset_race_groups = precinct_data['race_id'].to_numpy()\n",
    "#Need to recode groups to consecutive integers\n",
    "present_grps = np.unique(pool_party_groups)\n",
    "# num_present_grps = len(present_grps)\n",
    "# recoded_present_groups = np.arange(0,num_present_grps)\n",
    "recoded_subset_groups = np.array([np.argwhere(present_grps == item)[0][0] for item in subset_groups.tolist()])\n",
    "recoded_pool_groups = np.array([np.argwhere(present_grps == item)[0][0] for item in pool_party_groups.tolist()])\n",
    "\n",
    "\n"
   ]
  },
  {
   "cell_type": "code",
   "execution_count": 25,
   "id": "cce7ffe6-18aa-43ad-b05d-b230921a565f",
   "metadata": {},
   "outputs": [],
   "source": [
    "prec_i = 2 #use second precint"
   ]
  },
  {
   "cell_type": "markdown",
   "id": "5a1b7bfb-668a-48e2-b8ea-30485ce9090d",
   "metadata": {},
   "source": [
    "### Parity"
   ]
  },
  {
   "cell_type": "code",
   "execution_count": 26,
   "id": "dc9dd523-4884-42b0-ae80-dc8d14155d45",
   "metadata": {},
   "outputs": [],
   "source": [
    "grp_selectrt, par_val = fins.parity(pool_items, recoded_pool_groups, subset_items, recoded_subset_groups)"
   ]
  },
  {
   "cell_type": "markdown",
   "id": "5e8538c2-19d8-4eb1-87bf-ba894e9489ee",
   "metadata": {},
   "source": [
    "Select rate for party groups."
   ]
  },
  {
   "cell_type": "code",
   "execution_count": 27,
   "id": "be3604ca-bd4f-43e1-a99a-071edf3ca6dd",
   "metadata": {},
   "outputs": [
    {
     "name": "stdout",
     "output_type": "stream",
     "text": [
      "DEMOCRAT:  0.0357609710550887 REPUBLICAN:  0.031134473197781884\n"
     ]
    }
   ],
   "source": [
    "print(\"DEMOCRAT: \",  grp_selectrt[0], \"REPUBLICAN: \",  grp_selectrt[1]) #group measures"
   ]
  },
  {
   "cell_type": "markdown",
   "id": "716dd8c1-d840-460c-9852-875834ccfc79",
   "metadata": {},
   "source": [
    "Parity score"
   ]
  },
  {
   "cell_type": "code",
   "execution_count": 28,
   "id": "570ada02-c31c-415f-91f1-67df4738ba30",
   "metadata": {},
   "outputs": [
    {
     "name": "stdout",
     "output_type": "stream",
     "text": [
      "Parity:  0.8706271747995927\n"
     ]
    }
   ],
   "source": [
    "print(\"Parity: \",  par_val)"
   ]
  },
  {
   "cell_type": "markdown",
   "id": "cda246dd-0eff-4785-9c55-e73db22c58a0",
   "metadata": {},
   "source": [
    "### Balance"
   ]
  },
  {
   "cell_type": "code",
   "execution_count": 29,
   "id": "1bbeae0b-9101-42d4-8d38-7ffa072a0b54",
   "metadata": {},
   "outputs": [],
   "source": [
    "grp_propofs, bal_val = fins.balance(recoded_pool_groups, subset_items, recoded_subset_groups)"
   ]
  },
  {
   "cell_type": "markdown",
   "id": "53f4b98d-2fe6-41e1-b678-654ca737e199",
   "metadata": {},
   "source": [
    "Group proportion of the subset for party groups"
   ]
  },
  {
   "cell_type": "code",
   "execution_count": 30,
   "id": "495e00f8-16c6-4f72-887e-d76babe11d79",
   "metadata": {},
   "outputs": [
    {
     "name": "stdout",
     "output_type": "stream",
     "text": [
      "DEMOCRAT:  0.4154013015184382 REPUBLICAN:  0.5845986984815619\n"
     ]
    }
   ],
   "source": [
    "print(\"DEMOCRAT: \",  grp_propofs[0], \"REPUBLICAN: \",  grp_propofs[1]) #group measures"
   ]
  },
  {
   "cell_type": "markdown",
   "id": "eec3f99b-b002-4d6d-8b6e-4fbadb17af99",
   "metadata": {},
   "source": [
    "Balance score"
   ]
  },
  {
   "cell_type": "code",
   "execution_count": 31,
   "id": "d8267bb0-a40b-40aa-8f1b-b2f8b8a3fe5d",
   "metadata": {},
   "outputs": [
    {
     "name": "stdout",
     "output_type": "stream",
     "text": [
      "Balance:  0.7105751391465677\n"
     ]
    }
   ],
   "source": [
    "print(\"Balance: \",  bal_val)"
   ]
  },
  {
   "cell_type": "markdown",
   "id": "179c0e0f-8060-449d-8b6e-4e4fa48fb0eb",
   "metadata": {},
   "source": [
    "### Conditioned Parity\n",
    "Utilize party groups, but condition on white race group (6)."
   ]
  },
  {
   "cell_type": "code",
   "execution_count": 32,
   "id": "9a2fd09e-593a-4d22-8853-46383beb9fad",
   "metadata": {},
   "outputs": [],
   "source": [
    "condgrp_selectrt, cpar_val = fins.cond_parity(pool_items, recoded_pool_groups,pool_race_groups, subset_items, recoded_subset_groups, subset_race_groups,6)\n"
   ]
  },
  {
   "cell_type": "markdown",
   "id": "576485e6-0fc5-4f75-8341-b4f9fba0e669",
   "metadata": {},
   "source": [
    "Conditioned select rate for party groups."
   ]
  },
  {
   "cell_type": "code",
   "execution_count": 33,
   "id": "1404e849-6afc-4460-805e-bcf1779049cf",
   "metadata": {},
   "outputs": [
    {
     "name": "stdout",
     "output_type": "stream",
     "text": [
      "DEMOCRAT | WHITE:  0.03538033864038413 REPUBLICAN |WHITE:  0.03101744731411419\n"
     ]
    }
   ],
   "source": [
    "print(\"DEMOCRAT | WHITE: \",  condgrp_selectrt[0], \"REPUBLICAN |WHITE: \",  condgrp_selectrt[1]) #group measures"
   ]
  },
  {
   "cell_type": "markdown",
   "id": "14c0d7ce-3c90-4c7b-9cd6-45f999a3c038",
   "metadata": {},
   "source": [
    "Conditioned parity score"
   ]
  },
  {
   "cell_type": "code",
   "execution_count": 34,
   "id": "8c6c47c7-c6de-49bf-b059-0366e6cf2797",
   "metadata": {},
   "outputs": [
    {
     "name": "stdout",
     "output_type": "stream",
     "text": [
      "Conditioned parity:  0.8766859930139275\n"
     ]
    }
   ],
   "source": [
    "print(\"Conditioned parity: \",  cpar_val)"
   ]
  },
  {
   "cell_type": "markdown",
   "id": "d111e463-21d1-411e-8b6e-b724a6319589",
   "metadata": {},
   "source": [
    "### Conditioned Balance\n",
    "Utilize party groups, but condition on white race group (6)."
   ]
  },
  {
   "cell_type": "code",
   "execution_count": 35,
   "id": "c1033c0e-8dad-4c1a-9a50-074d9343707b",
   "metadata": {},
   "outputs": [],
   "source": [
    "\n",
    "condgrp_props, cbal_val = fins.cond_balance(recoded_pool_groups,subset_items, recoded_subset_groups, subset_race_groups,6)"
   ]
  },
  {
   "cell_type": "markdown",
   "id": "3f45879c-6de9-4769-88db-aaed80502f9a",
   "metadata": {},
   "source": [
    "Conditioned group proportion of the subset for party groups"
   ]
  },
  {
   "cell_type": "code",
   "execution_count": 36,
   "id": "4620020b-679d-45ba-96e5-a68da41de0b8",
   "metadata": {},
   "outputs": [
    {
     "name": "stdout",
     "output_type": "stream",
     "text": [
      "DEMOCRAT | WHITE:  0.36082474226804123 REPUBLICAN |WHITE:  0.6391752577319587\n"
     ]
    }
   ],
   "source": [
    "print(\"DEMOCRAT | WHITE: \",  condgrp_props[0], \"REPUBLICAN |WHITE: \",  condgrp_props[1]) #group measures"
   ]
  },
  {
   "cell_type": "markdown",
   "id": "cd97c6fd-2348-4da6-91ab-b635be157763",
   "metadata": {},
   "source": [
    "Conditioned balance score"
   ]
  },
  {
   "cell_type": "code",
   "execution_count": 37,
   "id": "98a7c6fe-3409-4d9a-8b22-accd00f456e3",
   "metadata": {},
   "outputs": [
    {
     "name": "stdout",
     "output_type": "stream",
     "text": [
      "Conditioned balance:  0.8766859930139275\n"
     ]
    }
   ],
   "source": [
    "print(\"Conditioned balance: \",  cpar_val)"
   ]
  },
  {
   "cell_type": "markdown",
   "id": "039e0d2d-88ad-47bb-b689-f95993354fb1",
   "metadata": {},
   "source": [
    "### Score Parity\n",
    "Score parity for race groups in precint 2 (aka 0400), note that this is for the same data the is limited to dems and republicans, this does not also include inxdependents. The AIES2022 experiment does include independents. "
   ]
  },
  {
   "cell_type": "code",
   "execution_count": 38,
   "id": "93cc585d-b53f-4ce5-8a0f-544959c84d83",
   "metadata": {},
   "outputs": [],
   "source": [
    "avgdist, scorep_val = fins.score_parity(subset_items, subset_scores, subset_race_groups)"
   ]
  },
  {
   "cell_type": "markdown",
   "id": "8ec92e54-626c-4434-a027-68f7c9442604",
   "metadata": {},
   "source": [
    "Average distance to pool for racial groups."
   ]
  },
  {
   "cell_type": "code",
   "execution_count": 39,
   "id": "507ce4c7-eece-4f9a-bbc3-0c8b23ceafcd",
   "metadata": {},
   "outputs": [
    {
     "name": "stdout",
     "output_type": "stream",
     "text": [
      "ASIAN:  0.032299593893750034 BLACK:  0.013103943314941883 AMINDIAN :  0.018822665713235855 MULTI :  0.03709304812387848 OTHER :  0.017150098003811613 UNDESIGNATED :  0.028891044362378757 WHITE :  0.029753477561497682\n"
     ]
    }
   ],
   "source": [
    "print(\"ASIAN: \", avgdist[0], \"BLACK: \", avgdist[1], \"AMINDIAN : \", avgdist[2], \"MULTI : \", avgdist[3], \"OTHER : \", avgdist[4], \"UNDESIGNATED : \", avgdist[5], \"WHITE : \", avgdist[6]) #group measures"
   ]
  },
  {
   "cell_type": "markdown",
   "id": "63de778c-71ee-4d39-8c5f-7eed37157963",
   "metadata": {},
   "source": [
    "Score parity value"
   ]
  },
  {
   "cell_type": "code",
   "execution_count": 40,
   "id": "6e4b0c0d-9e46-4436-ac9b-c51946d0f9e2",
   "metadata": {},
   "outputs": [
    {
     "name": "stdout",
     "output_type": "stream",
     "text": [
      "Score parity:  0.353272216162421\n"
     ]
    }
   ],
   "source": [
    "print(\"Score parity: \",  scorep_val)"
   ]
  },
  {
   "cell_type": "markdown",
   "id": "76b27b8a-0234-46cb-8f96-6dea0edabf2b",
   "metadata": {},
   "source": [
    "### Score Balance\n",
    "Score balance for race groups in precint 2 (aka 0400), note that this is for the same data the is limited to dems and republicans, this does not also include inxdependents. The AIES2022 experiment does include independents. "
   ]
  },
  {
   "cell_type": "code",
   "execution_count": 41,
   "id": "a1cbd30c-ded5-4e4e-8536-5910486224e4",
   "metadata": {},
   "outputs": [],
   "source": [
    "totalscore, sb_val = fins.score_balance(subset_items, subset_scores, subset_race_groups)"
   ]
  },
  {
   "cell_type": "markdown",
   "id": "b1fec7c7-f046-4f16-bf20-6a6b14bf7ef1",
   "metadata": {},
   "source": [
    "Total distance to pool for racial groups."
   ]
  },
  {
   "cell_type": "code",
   "execution_count": 42,
   "id": "947a69fb-cb43-4c61-b290-1233d84f1162",
   "metadata": {},
   "outputs": [
    {
     "name": "stdout",
     "output_type": "stream",
     "text": [
      "ASIAN:  0.35529553283125037 BLACK:  0.8779642021011062 AMINDIAN :  0.03764533142647171 MULTI :  0.07418609624775696 OTHER :  0.30870176406860905 UNDESIGNATED :  1.3289880406694228 WHITE :  23.088698587722202\n"
     ]
    }
   ],
   "source": [
    "print(\"ASIAN: \", totalscore[0], \"BLACK: \", totalscore[1], \"AMINDIAN : \", totalscore[2], \"MULTI : \", totalscore[3], \"OTHER : \", totalscore[4], \"UNDESIGNATED : \", totalscore[5], \"WHITE : \", totalscore[6]) #group measures"
   ]
  },
  {
   "cell_type": "markdown",
   "id": "e8de30dd-0336-4cc0-bee0-b0d9b1a04cd1",
   "metadata": {},
   "source": [
    "Score balance value"
   ]
  },
  {
   "cell_type": "code",
   "execution_count": 43,
   "id": "59dad2e0-54bc-4136-9d17-924759735bde",
   "metadata": {},
   "outputs": [
    {
     "name": "stdout",
     "output_type": "stream",
     "text": [
      "Score balance:  0.001630465713926823\n"
     ]
    }
   ],
   "source": [
    "print(\"Score balance: \",  sb_val)"
   ]
  }
 ],
 "metadata": {
  "kernelspec": {
   "display_name": "Python 3 (ipykernel)",
   "language": "python",
   "name": "python3"
  },
  "language_info": {
   "codemirror_mode": {
    "name": "ipython",
    "version": 3
   },
   "file_extension": ".py",
   "mimetype": "text/x-python",
   "name": "python",
   "nbconvert_exporter": "python",
   "pygments_lexer": "ipython3",
   "version": "3.9.7"
  }
 },
 "nbformat": 4,
 "nbformat_minor": 5
}
